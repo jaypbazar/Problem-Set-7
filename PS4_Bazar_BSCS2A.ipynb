{
 "cells": [
  {
   "cell_type": "markdown",
   "metadata": {},
   "source": [
    "### Problem Set 7: Anomaly Detection"
   ]
  },
  {
   "cell_type": "code",
   "execution_count": 12,
   "metadata": {},
   "outputs": [],
   "source": [
    "import matplotlib.pyplot as plt\n",
    "import seaborn as sns\n",
    "import numpy as np\n",
    "import pandas as pd"
   ]
  },
  {
   "cell_type": "markdown",
   "metadata": {},
   "source": [
    "#### **The Dataset** \n",
    "\n",
    "Source: K.Kalyani,K.Kalyani. (2013). Tamilnadu Electricity Board Hourly Readings. UCI Machine Learning Repository. https://doi.org/10.24432/C5KP4K."
   ]
  },
  {
   "cell_type": "code",
   "execution_count": 13,
   "metadata": {},
   "outputs": [
    {
     "data": {
      "text/html": [
       "<div>\n",
       "<style scoped>\n",
       "    .dataframe tbody tr th:only-of-type {\n",
       "        vertical-align: middle;\n",
       "    }\n",
       "\n",
       "    .dataframe tbody tr th {\n",
       "        vertical-align: top;\n",
       "    }\n",
       "\n",
       "    .dataframe thead th {\n",
       "        text-align: right;\n",
       "    }\n",
       "</style>\n",
       "<table border=\"1\" class=\"dataframe\">\n",
       "  <thead>\n",
       "    <tr style=\"text-align: right;\">\n",
       "      <th></th>\n",
       "      <th>ForkVA</th>\n",
       "      <th>ForkW</th>\n",
       "      <th>Type</th>\n",
       "      <th>Sector</th>\n",
       "      <th>ServiceID</th>\n",
       "    </tr>\n",
       "  </thead>\n",
       "  <tbody>\n",
       "    <tr>\n",
       "      <th>0</th>\n",
       "      <td>0.865935636652813</td>\n",
       "      <td>0.143763</td>\n",
       "      <td>Bank</td>\n",
       "      <td>1.0</td>\n",
       "      <td>671004572.0</td>\n",
       "    </tr>\n",
       "    <tr>\n",
       "      <th>1</th>\n",
       "      <td>0.12980418301167</td>\n",
       "      <td>0.088930</td>\n",
       "      <td>Bank</td>\n",
       "      <td>1.0</td>\n",
       "      <td>671004572.0</td>\n",
       "    </tr>\n",
       "    <tr>\n",
       "      <th>2</th>\n",
       "      <td>0.061801486824636</td>\n",
       "      <td>0.552047</td>\n",
       "      <td>Bank</td>\n",
       "      <td>1.0</td>\n",
       "      <td>671004572.0</td>\n",
       "    </tr>\n",
       "    <tr>\n",
       "      <th>3</th>\n",
       "      <td>0.099116455214686</td>\n",
       "      <td>0.848172</td>\n",
       "      <td>Bank</td>\n",
       "      <td>1.0</td>\n",
       "      <td>671004572.0</td>\n",
       "    </tr>\n",
       "    <tr>\n",
       "      <th>4</th>\n",
       "      <td>0.20570390723589</td>\n",
       "      <td>0.624722</td>\n",
       "      <td>Bank</td>\n",
       "      <td>1.0</td>\n",
       "      <td>671004572.0</td>\n",
       "    </tr>\n",
       "  </tbody>\n",
       "</table>\n",
       "</div>"
      ],
      "text/plain": [
       "              ForkVA     ForkW  Type  Sector    ServiceID\n",
       "0  0.865935636652813  0.143763  Bank     1.0  671004572.0\n",
       "1   0.12980418301167  0.088930  Bank     1.0  671004572.0\n",
       "2  0.061801486824636  0.552047  Bank     1.0  671004572.0\n",
       "3  0.099116455214686  0.848172  Bank     1.0  671004572.0\n",
       "4   0.20570390723589  0.624722  Bank     1.0  671004572.0"
      ]
     },
     "execution_count": 13,
     "metadata": {},
     "output_type": "execute_result"
    }
   ],
   "source": [
    "data = pd.read_csv('eb.csv')\n",
    "\n",
    "data.head()"
   ]
  },
  {
   "cell_type": "markdown",
   "metadata": {},
   "source": [
    "#### Remove all non-numeric data from the dataset"
   ]
  },
  {
   "cell_type": "code",
   "execution_count": 14,
   "metadata": {},
   "outputs": [],
   "source": [
    "data = data.drop(['Type', 'Sector'], axis=1)\n",
    "\n",
    "data = data.apply(pd.to_numeric, errors='coerce')\n",
    "data = data.dropna()"
   ]
  },
  {
   "cell_type": "code",
   "execution_count": 15,
   "metadata": {},
   "outputs": [
    {
     "data": {
      "text/html": [
       "<div>\n",
       "<style scoped>\n",
       "    .dataframe tbody tr th:only-of-type {\n",
       "        vertical-align: middle;\n",
       "    }\n",
       "\n",
       "    .dataframe tbody tr th {\n",
       "        vertical-align: top;\n",
       "    }\n",
       "\n",
       "    .dataframe thead th {\n",
       "        text-align: right;\n",
       "    }\n",
       "</style>\n",
       "<table border=\"1\" class=\"dataframe\">\n",
       "  <thead>\n",
       "    <tr style=\"text-align: right;\">\n",
       "      <th></th>\n",
       "      <th>ForkVA</th>\n",
       "      <th>ForkW</th>\n",
       "      <th>ServiceID</th>\n",
       "    </tr>\n",
       "  </thead>\n",
       "  <tbody>\n",
       "    <tr>\n",
       "      <th>count</th>\n",
       "      <td>45781.000000</td>\n",
       "      <td>45781.000000</td>\n",
       "      <td>4.578100e+04</td>\n",
       "    </tr>\n",
       "    <tr>\n",
       "      <th>mean</th>\n",
       "      <td>0.500983</td>\n",
       "      <td>0.499639</td>\n",
       "      <td>7.651484e+08</td>\n",
       "    </tr>\n",
       "    <tr>\n",
       "      <th>std</th>\n",
       "      <td>0.288658</td>\n",
       "      <td>0.289301</td>\n",
       "      <td>9.235777e+08</td>\n",
       "    </tr>\n",
       "    <tr>\n",
       "      <th>min</th>\n",
       "      <td>0.000005</td>\n",
       "      <td>0.000018</td>\n",
       "      <td>1.983468e+08</td>\n",
       "    </tr>\n",
       "    <tr>\n",
       "      <th>25%</th>\n",
       "      <td>0.251389</td>\n",
       "      <td>0.250063</td>\n",
       "      <td>4.570085e+08</td>\n",
       "    </tr>\n",
       "    <tr>\n",
       "      <th>50%</th>\n",
       "      <td>0.500820</td>\n",
       "      <td>0.500357</td>\n",
       "      <td>6.001242e+08</td>\n",
       "    </tr>\n",
       "    <tr>\n",
       "      <th>75%</th>\n",
       "      <td>0.750885</td>\n",
       "      <td>0.749554</td>\n",
       "      <td>7.856432e+08</td>\n",
       "    </tr>\n",
       "    <tr>\n",
       "      <th>max</th>\n",
       "      <td>0.999996</td>\n",
       "      <td>0.999970</td>\n",
       "      <td>5.783457e+09</td>\n",
       "    </tr>\n",
       "  </tbody>\n",
       "</table>\n",
       "</div>"
      ],
      "text/plain": [
       "             ForkVA         ForkW     ServiceID\n",
       "count  45781.000000  45781.000000  4.578100e+04\n",
       "mean       0.500983      0.499639  7.651484e+08\n",
       "std        0.288658      0.289301  9.235777e+08\n",
       "min        0.000005      0.000018  1.983468e+08\n",
       "25%        0.251389      0.250063  4.570085e+08\n",
       "50%        0.500820      0.500357  6.001242e+08\n",
       "75%        0.750885      0.749554  7.856432e+08\n",
       "max        0.999996      0.999970  5.783457e+09"
      ]
     },
     "execution_count": 15,
     "metadata": {},
     "output_type": "execute_result"
    }
   ],
   "source": [
    "data.describe()"
   ]
  },
  {
   "cell_type": "code",
   "execution_count": 23,
   "metadata": {},
   "outputs": [
    {
     "data": {
      "image/png": "[encoded data removed]",
      "text/plain": [
       "<Figure size 500x500 with 1 Axes>"
      ]
     },
     "metadata": {},
     "output_type": "display_data"
    },
    {
     "data": {
      "image/png": "[encoded data removed]",
      "text/plain": [
       "<Figure size 500x500 with 1 Axes>"
      ]
     },
     "metadata": {},
     "output_type": "display_data"
    },
    {
     "data": {
      "image/png": "[encoded data removed]",
      "text/plain": [
       "<Figure size 500x500 with 1 Axes>"
      ]
     },
     "metadata": {},
     "output_type": "display_data"
    }
   ],
   "source": [
    "feature_name = data.iloc[:,:].columns\n",
    "plt.figure\n",
    "for i, cn in enumerate(data[feature_name]):\n",
    "    sns.displot(data[cn], bins=50)\n",
    "plt.show()"
   ]
  }
 ],
 "metadata": {
  "kernelspec": {
   "display_name": "Python 3",
   "language": "python",
   "name": "python3"
  },
  "language_info": {
   "codemirror_mode": {
    "name": "ipython",
    "version": 3
   },
   "file_extension": ".py",
   "mimetype": "text/x-python",
   "name": "python",
   "nbconvert_exporter": "python",
   "pygments_lexer": "ipython3",
   "version": "3.11.9"
  }
 },
 "nbformat": 4,
 "nbformat_minor": 2
}
